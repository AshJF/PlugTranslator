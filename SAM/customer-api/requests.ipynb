{
 "metadata": {
  "language_info": {
   "codemirror_mode": {
    "name": "ipython",
    "version": 3
   },
   "file_extension": ".py",
   "mimetype": "text/x-python",
   "name": "python",
   "nbconvert_exporter": "python",
   "pygments_lexer": "ipython3",
   "version": "3.8.5-final"
  },
  "orig_nbformat": 2,
  "kernelspec": {
   "name": "python3",
   "display_name": "Python 3.8.5 64-bit ('D_FlaskEnv_AJF': conda)",
   "metadata": {
    "interpreter": {
     "hash": "39100aa66501cc3d97b2df258ffa0770762b8463e2c9bf0b5a2183a222da6a9b"
    }
   }
  }
 },
 "nbformat": 4,
 "nbformat_minor": 2,
 "cells": [
  {
   "cell_type": "code",
   "execution_count": 1,
   "metadata": {},
   "outputs": [],
   "source": [
    "import requests"
   ]
  },
  {
   "cell_type": "code",
   "execution_count": 2,
   "metadata": {},
   "outputs": [],
   "source": [
    "base_url = \"https://05sk420x1m.execute-api.us-east-2.amazonaws.com/Prod\""
   ]
  },
  {
   "cell_type": "code",
   "execution_count": 3,
   "metadata": {},
   "outputs": [],
   "source": [
    "r = requests.post(f\"{base_url}/customers\", data = {\"id\": \"1\", \"name\": \"Lee\", \"location\": \"India\"})"
   ]
  },
  {
   "cell_type": "code",
   "execution_count": 4,
   "metadata": {},
   "outputs": [
    {
     "output_type": "execute_result",
     "data": {
      "text/plain": [
       "b'{\"message\": \"Customer entry created\"}'"
      ]
     },
     "metadata": {},
     "execution_count": 4
    }
   ],
   "source": [
    "r.content"
   ]
  },
  {
   "cell_type": "code",
   "execution_count": 6,
   "metadata": {},
   "outputs": [
    {
     "output_type": "execute_result",
     "data": {
      "text/plain": [
       "b'{\"message\": \"Customer entry updated\"}'"
      ]
     },
     "metadata": {},
     "execution_count": 6
    }
   ],
   "source": [
    "id = 1\n",
    "p = requests.patch(f\"{base_url}/customers/{id}\", data = {\"name\": \"Ash\"})\n",
    "p.content"
   ]
  },
  {
   "cell_type": "code",
   "execution_count": 7,
   "metadata": {},
   "outputs": [
    {
     "output_type": "execute_result",
     "data": {
      "text/plain": [
       "b'{\"message\": \"Customer entry deleted\"}'"
      ]
     },
     "metadata": {},
     "execution_count": 7
    }
   ],
   "source": [
    "id = 1\n",
    "d = requests.delete(f\"{base_url}/customers/{id}\")\n",
    "d.content"
   ]
  },
  {
   "cell_type": "code",
   "execution_count": null,
   "metadata": {},
   "outputs": [],
   "source": []
  }
 ]
}